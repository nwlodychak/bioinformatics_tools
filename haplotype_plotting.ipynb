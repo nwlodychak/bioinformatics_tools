{
 "cells": [
  {
   "cell_type": "code",
   "execution_count": null,
   "id": "initial_id",
   "metadata": {
    "collapsed": true
   },
   "outputs": [],
   "source": [
    "\n",
    "import pandas as pd\n",
    "\n",
    "# Replace 'file1.csv', 'file2.csv', 'file3.csv' with your actual file paths\n",
    "df1 = pd.read_csv('file1.csv')\n",
    "df2 = pd.read_csv('file2.csv')\n",
    "df3 = pd.read_csv('file3.csv')\n",
    "df1['source'] = 'AmpSeq'\n",
    "df2['source'] = 'UMIExo'\n",
    "df3['source'] = '2Step'\n",
    "\n",
    "combined_df = pd.concat([df1, df2, df3], ignore_index=True)\n",
    "# Melt the category columns to long format\n",
    "melted_df = combined_df.melt(id_vars=['pct1', 'pct2', 'pct3', 'class', 'source'],\n",
    "                             value_vars=['cat1', 'cat2', 'cat3'],\n",
    "                             var_name='category',\n",
    "                             value_name='value')\n",
    "\n",
    "# Split the 'value' column by semicolon and explode\n",
    "melted_df['value'] = melted_df['value'].str.split(';')\n",
    "exploded_df = melted_df.explode('value')\n",
    "# Extract the numerical part before the first underscore\n",
    "exploded_df['x_position'] = exploded_df['value'].str.extract(r'(\\d+)_')[0].astype(int)\n",
    "aggregated_df = exploded_df.groupby('value')['pct1', 'pct2', 'pct3'].sum().reset_index()\n",
    "\n",
    "# Calculate the total percentage\n",
    "aggregated_df['total_pct'] = aggregated_df[['pct1', 'pct2', 'pct3']].sum(axis=1)\n",
    "source_presence = exploded_df.groupby('value')['source'].unique().reset_index()\n",
    "\n",
    "# Create flags for each source\n",
    "source_presence['source1'] = source_presence['source'].apply(lambda x: 1 if 1 in x else 0)\n",
    "source_presence['source2'] = source_presence['source'].apply(lambda x: 1 if 2 in x else 0)\n",
    "source_presence['source3'] = source_presence['source'].apply(lambda x: 1 if 3 in x else 0)\n",
    "\n",
    "# Merge with the aggregated data\n",
    "final_df = pd.merge(aggregated_df, source_presence, on='value')\n",
    "# Example: Calculate standard deviation across pct1, pct2, pct3\n",
    "final_df['deviation'] = final_df[['pct1', 'pct2', 'pct3']].std(axis=1)\n",
    "# Extract x positions\n",
    "final_df['x'] = final_df['value'].str.extract(r'(\\d+)_')[0].astype(int)\n",
    "\n",
    "# y is the total percentage\n",
    "final_df['y'] = final_df['total_pct']\n"
   ]
  },
  {
   "cell_type": "code",
   "outputs": [],
   "source": [
    "# This is the plotting but we can adjust this later.\n",
    "import plotly.express as px\n",
    "\n",
    "fig = px.scatter(final_df, \n",
    "                 x='x', \n",
    "                 y='y',\n",
    "                 error_y='deviation',\n",
    "                 color='source',  # You can adjust this based on your needs\n",
    "                 hover_data=['value'])\n",
    "\n",
    "fig.update_layout(title='Sum Percentage by X Position with Deviation',\n",
    "                  xaxis_title='X Position',\n",
    "                  yaxis_title='Sum Percentage')\n",
    "\n",
    "fig.show()"
   ],
   "metadata": {
    "collapsed": false
   },
   "id": "daa41eba379278d7"
  }
 ],
 "metadata": {
  "kernelspec": {
   "display_name": "Python 3",
   "language": "python",
   "name": "python3"
  },
  "language_info": {
   "codemirror_mode": {
    "name": "ipython",
    "version": 2
   },
   "file_extension": ".py",
   "mimetype": "text/x-python",
   "name": "python",
   "nbconvert_exporter": "python",
   "pygments_lexer": "ipython2",
   "version": "2.7.6"
  }
 },
 "nbformat": 4,
 "nbformat_minor": 5
}
